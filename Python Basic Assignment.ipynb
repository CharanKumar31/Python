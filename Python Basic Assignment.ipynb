{
 "cells": [
  {
   "cell_type": "code",
   "execution_count": 1,
   "id": "066102e1",
   "metadata": {},
   "outputs": [
    {
     "name": "stdout",
     "output_type": "stream",
     "text": [
      "Value is 162.8894626777442\n"
     ]
    }
   ],
   "source": [
    "\"\"\"\n",
    "Q1. Using Python script as a calculator\n",
    "Create the variables n, r, p and assign them values 10, 5, and 100 respectively. Then\n",
    "evaluate the following expression in the Python console.\n",
    "𝐴 = 𝑝 (1 + 𝑟/ 100)n\n",
    "a. 100\n",
    "            b. 162.89 is the correct answer\n",
    "c. 189\n",
    "d. None of the above\n",
    "\"\"\"\n",
    "\n",
    "\n",
    "n = 10\n",
    "r = 5\n",
    "p = 100\n",
    "\n",
    "A = (p * (1+r/ 100)**n ) \n",
    "\n",
    "print(\"Value is\", A)"
   ]
  },
  {
   "cell_type": "code",
   "execution_count": 4,
   "id": "68abc013",
   "metadata": {},
   "outputs": [
    {
     "name": "stdout",
     "output_type": "stream",
     "text": [
      "There are 20 students in the class, with 10 who play at least one sport.\n"
     ]
    }
   ],
   "source": [
    "'''\n",
    "Q2. In a given string format operation, how will you print the given string.\n",
    "A = 10\n",
    "B = 20\n",
    "Str = \"There are {} students in the class, with {} who play at least one sport.\"\n",
    "a. print(string.format(a,b))\n",
    "b. print(string+a+b)\n",
    "            c. print(string.format(b,a)) is the Correct answer\n",
    "d. None of the above\n",
    "\n",
    "'''\n",
    "\n",
    "A = 10\n",
    "B = 20\n",
    "Str =  \"There are {} students in the class, with {} who play at least one sport.\"\n",
    "print(Str.format(B,A))"
   ]
  },
  {
   "cell_type": "code",
   "execution_count": 13,
   "id": "be63ffd0",
   "metadata": {},
   "outputs": [
    {
     "name": "stdout",
     "output_type": "stream",
     "text": [
      "It goes without saying, \"Time is Money\", and none can deny it.\n"
     ]
    }
   ],
   "source": [
    "'''\n",
    "Q3. In a given sample string, How do you print a double quoted string in between a\n",
    "regular\n",
    "string using the escape character?\n",
    "Sample output = It goes without saying, “Time is Money”, and none can deny it.\n",
    "            a. print(“It goes without saying, \\“Time is Money\\”, and none can deny it.”) is the Correct answer\n",
    "b. print(“It goes without saying, \\Time is Money\\, and none can deny it.”)\n",
    "c. print(“It goes without saying” + “Time is Money” + “and none can deny it.”)\n",
    "d. None of the above\n",
    "\n",
    "'''\n",
    "a=\"It goes without saying, \\\"Time is Money\\\", and none can deny it.\"\n",
    "print(a)"
   ]
  },
  {
   "cell_type": "code",
   "execution_count": 3,
   "id": "2471c0a3",
   "metadata": {},
   "outputs": [
    {
     "data": {
      "text/plain": [
       "3.3333333333333335"
      ]
     },
     "execution_count": 3,
     "metadata": {},
     "output_type": "execute_result"
    }
   ],
   "source": [
    "'''\n",
    "Q4. What will be the output of the following code?\n",
    "x = lambda a,b: a//b\n",
    "x(10,3)\n",
    "            a. 3.3333333333 is the corect answer\n",
    "b. 3\n",
    "c. 30\n",
    "d. 1000\n",
    "'''\n",
    "\n",
    "x = lambda a,b: a/b\n",
    "x(10,3)"
   ]
  },
  {
   "cell_type": "code",
   "execution_count": 24,
   "id": "367069e2",
   "metadata": {},
   "outputs": [
    {
     "name": "stdout",
     "output_type": "stream",
     "text": [
      "Greater\n"
     ]
    }
   ],
   "source": [
    "''''\n",
    "Q5. What will be the output of the following code?\n",
    "A = 10\n",
    "B = 12\n",
    "print(\"Smaller\") if A == B else print(\"Greater\") if A < B else print(\"True\")\n",
    "a. True\n",
    "b. Smaller\n",
    "            c. Greater is the correct answer\n",
    "d. None of the above\n",
    "'''\n",
    "\n",
    "A = 10\n",
    "B = 2\n",
    "\n",
    "print(\"Smaller\") if A == B else print(\"Greater\") if A < B else print(\"True\")"
   ]
  },
  {
   "cell_type": "code",
   "execution_count": 5,
   "id": "ed56b956",
   "metadata": {},
   "outputs": [
    {
     "name": "stdout",
     "output_type": "stream",
     "text": [
      "[2, 7, 3, 5, 4, 6]\n"
     ]
    },
    {
     "ename": "NameError",
     "evalue": "name 'numpy' is not defined",
     "output_type": "error",
     "traceback": [
      "\u001b[1;31m---------------------------------------------------------------------------\u001b[0m",
      "\u001b[1;31mNameError\u001b[0m                                 Traceback (most recent call last)",
      "Input \u001b[1;32mIn [5]\u001b[0m, in \u001b[0;36m<cell line: 7>\u001b[1;34m()\u001b[0m\n\u001b[0;32m      5\u001b[0m my_list \u001b[38;5;241m=\u001b[39m [\u001b[38;5;241m2\u001b[39m,\u001b[38;5;241m7\u001b[39m,\u001b[38;5;241m3\u001b[39m,\u001b[38;5;241m5\u001b[39m,\u001b[38;5;241m4\u001b[39m,\u001b[38;5;241m6\u001b[39m]\n\u001b[0;32m      6\u001b[0m \u001b[38;5;28mprint\u001b[39m(my_list)\n\u001b[1;32m----> 7\u001b[0m arr \u001b[38;5;241m=\u001b[39m  \u001b[43mnumpy\u001b[49m\u001b[38;5;241m.\u001b[39marray(my_list,dtype \u001b[38;5;241m=\u001b[39m \u001b[38;5;28mint\u001b[39m)\n\u001b[0;32m      8\u001b[0m \u001b[38;5;28mprint\u001b[39m(arr)\n",
      "\u001b[1;31mNameError\u001b[0m: name 'numpy' is not defined"
     ]
    }
   ],
   "source": [
    "#Q6. What will be the output of the following code?\n",
    "\n",
    "import os\n",
    "import numpy as np\n",
    "my_list = [2,7,3,5,4,6]\n",
    "print(my_list)\n",
    "arr =  numpy.array(my_list,dtype = int)\n",
    "print(arr)\n",
    "\n",
    "\n",
    "#name error: numpy is not defined"
   ]
  },
  {
   "cell_type": "code",
   "execution_count": 23,
   "id": "98ee27de",
   "metadata": {},
   "outputs": [
    {
     "name": "stdout",
     "output_type": "stream",
     "text": [
      "Learn\n",
      "Learn\n"
     ]
    }
   ],
   "source": [
    "'''\n",
    "Q7. Create a string called ‘string’ with the value as “Machine Learning”. Which code(s)\n",
    "is/are appropriate to slice the substring “Learn”?\n",
    "a. string[slice(13,8,1)]\n",
    "b. string[slice(1,8,1)]\n",
    "c. string[8:14]\n",
    "            d. string[slice(8,13,1)] is the Correct answer\n",
    "'''\n",
    "str = \"Machine Learning\"\n",
    "print(str[8:13])\n",
    "print(str[slice(8,13,1)])"
   ]
  },
  {
   "cell_type": "code",
   "execution_count": 12,
   "id": "e48a3bc2",
   "metadata": {},
   "outputs": [],
   "source": [
    "'''\n",
    "Q8. Create a sequence of numbers from 10 to 25 and increment by 4. What is the index\n",
    "of the\n",
    "value 18?\n",
    "a. 3\n",
    "            b. 2 is the correct answer\n",
    "c. 0\n",
    "d. 1\n",
    "'''\n",
    "a = [10,14,18,22]"
   ]
  },
  {
   "cell_type": "code",
   "execution_count": 25,
   "id": "5f1f5a46",
   "metadata": {},
   "outputs": [
    {
     "name": "stdout",
     "output_type": "stream",
     "text": [
      "True\n"
     ]
    }
   ],
   "source": [
    "'''\n",
    "Q9. Which of the following is true with respect to the below codes?\n",
    "a. num1 = num2\n",
    "b. num1 ≠ num2\n",
    "c. num1 < num2\n",
    "d. num1 > num2\n",
    "'''\n",
    "\n",
    "num1 = 5**4\n",
    "num2 = pow(5,4)\n",
    "\n",
    "print(num1==num2)"
   ]
  },
  {
   "cell_type": "markdown",
   "id": "fe6ba6b9",
   "metadata": {},
   "source": [
    "Q10.A Python NameError exception is raised when: -\n",
    "            a. Trying to access a variable which has not been defined is the correct answer\n",
    "b. Trying to access a key in a dictionary that does not exist\n",
    "c. Accessing a column with misspelled column name\n",
    "d. Accessing the function from a module that has not been imported"
   ]
  },
  {
   "cell_type": "code",
   "execution_count": 26,
   "id": "2816a6d7",
   "metadata": {},
   "outputs": [
    {
     "ename": "ValueError",
     "evalue": "invalid literal for int() with base 10: 'String'",
     "output_type": "error",
     "traceback": [
      "\u001b[1;31m---------------------------------------------------------------------------\u001b[0m",
      "\u001b[1;31mValueError\u001b[0m                                Traceback (most recent call last)",
      "Input \u001b[1;32mIn [26]\u001b[0m, in \u001b[0;36m<cell line: 9>\u001b[1;34m()\u001b[0m\n\u001b[0;32m      1\u001b[0m \u001b[38;5;124;03m''''\u001b[39;00m\n\u001b[0;32m      2\u001b[0m \u001b[38;5;124;03mQ11.What type of exception will be raised for the code given below?\u001b[39;00m\n\u001b[0;32m      3\u001b[0m \u001b[38;5;124;03ma. NameError\u001b[39;00m\n\u001b[1;32m   (...)\u001b[0m\n\u001b[0;32m      6\u001b[0m \u001b[38;5;124;03md. AttributeError\u001b[39;00m\n\u001b[0;32m      7\u001b[0m \u001b[38;5;124;03m'''\u001b[39;00m\n\u001b[0;32m      8\u001b[0m x \u001b[38;5;241m=\u001b[39m \u001b[38;5;124m'\u001b[39m\u001b[38;5;124mString\u001b[39m\u001b[38;5;124m'\u001b[39m\n\u001b[1;32m----> 9\u001b[0m \u001b[38;5;28;43mint\u001b[39;49m\u001b[43m(\u001b[49m\u001b[43mx\u001b[49m\u001b[43m)\u001b[49m\n",
      "\u001b[1;31mValueError\u001b[0m: invalid literal for int() with base 10: 'String'"
     ]
    }
   ],
   "source": [
    "''''\n",
    "Q11.What type of exception will be raised for the code given below?\n",
    "a. NameError\n",
    "b. KeyError\n",
    "            c. ValueError is the correct answer\n",
    "d. AttributeError\n",
    "'''\n",
    "x = 'String'\n",
    "int(x)"
   ]
  },
  {
   "cell_type": "markdown",
   "id": "587da2e3",
   "metadata": {},
   "source": [
    "\n",
    "Q12.A FileNotFoundError exception is raised by operating system errors when: -\n",
    "a. Trying to create a file or directory which already exists\n",
    "            b. A file or directory is requested but does not exist in the working directory is the correct answer\n",
    "c. Trying to run an operation without the adequate access rights\n",
    "d. A directory operation, os.listdir() is requested on something which is not a\n",
    "directory\n"
   ]
  },
  {
   "cell_type": "code",
   "execution_count": 15,
   "id": "53b2bfbd",
   "metadata": {},
   "outputs": [
    {
     "name": "stdout",
     "output_type": "stream",
     "text": [
      "<class 'str'>\n"
     ]
    }
   ],
   "source": [
    "'''\n",
    "Q13.Consider a variable Z. The value of Z is \"ID-5632\". Data type of Z is: -\n",
    "a. Complex\n",
    "        b. Character(String) is the correct answer\n",
    "c. Integer\n",
    "d. Boolean\n",
    "'''\n",
    "\n",
    "Z = \"ID-5632\"\n",
    "print(type(Z))"
   ]
  },
  {
   "cell_type": "markdown",
   "id": "f90edd99",
   "metadata": {},
   "source": [
    "\n",
    "Q14.Which of the following variable(s) are character data type?\n",
    "a. K= “4”\n",
    "b. J= “Welcome”\n",
    "c. L= “?”\n",
    "            d. All of the above is the correct answer"
   ]
  },
  {
   "cell_type": "markdown",
   "id": "82934e14",
   "metadata": {},
   "source": [
    "\n",
    "Q15.Choose the symbol/s that does not have the ability to convert any values to string?\n",
    "a. ( )\n",
    "b. “ ”\n",
    "        c. {}\n",
    "        d. # These donot have the ability"
   ]
  },
  {
   "cell_type": "code",
   "execution_count": 27,
   "id": "a351b922",
   "metadata": {},
   "outputs": [
    {
     "name": "stdout",
     "output_type": "stream",
     "text": [
      "{'country1': {'name': 'India', 'State': 'Delhi'}, 'country2': {'name': 'China', 'State': 'Beijing'}, 'country3': {'name': 'Japan', 'State': 'Tokyo'}, 'country4': {'name': 'Quatar', 'State': 'Doha'}, 'country5': {'name': 'France', 'State': 'Paris'}}\n"
     ]
    }
   ],
   "source": [
    "'''\n",
    "Q16.Create a dictionary ‘Country’ that maps the following countries to their capitals\n",
    "respectively:\n",
    "\n",
    "Country India China Japan Qatar France\n",
    "State Delhi Beijing Tokyo Doha Marseilles\n",
    "\n",
    "Find 2 commands to replace “Marseilles” with “Paris” is:\n",
    "\n",
    "'''\n",
    "\n",
    "Country = {\n",
    "'country1' : {'name':\"India\",'State':\"Delhi\"},\n",
    "'country2' : {'name':\"China\",'State':\"Beijing\"},\n",
    "'country3' : {'name':\"Japan\",'State':\"Tokyo\"},  \n",
    "'country4' : {'name':\"Quatar\",'State':\"Doha\"},\n",
    "'country5' : {'name':\"France\",'State':\"Maseilles\"},\n",
    "}\n",
    "\n",
    "\n",
    "Country ['country5']['State'] = 'Paris'\n",
    "print(Country)\n",
    " "
   ]
  },
  {
   "cell_type": "code",
   "execution_count": 33,
   "id": "59f590c9",
   "metadata": {},
   "outputs": [
    {
     "ename": "TypeError",
     "evalue": "'tuple' object does not support item assignment",
     "output_type": "error",
     "traceback": [
      "\u001b[1;31m---------------------------------------------------------------------------\u001b[0m",
      "\u001b[1;31mTypeError\u001b[0m                                 Traceback (most recent call last)",
      "Input \u001b[1;32mIn [33]\u001b[0m, in \u001b[0;36m<cell line: 14>\u001b[1;34m()\u001b[0m\n\u001b[0;32m     12\u001b[0m tuple_1 \u001b[38;5;241m=\u001b[39m (\u001b[38;5;241m1\u001b[39m,\u001b[38;5;241m5\u001b[39m,\u001b[38;5;241m6\u001b[39m,\u001b[38;5;241m7\u001b[39m,\u001b[38;5;241m8\u001b[39m)\n\u001b[0;32m     13\u001b[0m tuple_2 \u001b[38;5;241m=\u001b[39m (\u001b[38;5;241m8\u001b[39m,\u001b[38;5;241m9\u001b[39m,\u001b[38;5;241m4\u001b[39m)\n\u001b[1;32m---> 14\u001b[0m tuple_1[\u001b[38;5;241m3\u001b[39m] \u001b[38;5;241m=\u001b[39m \u001b[38;5;241m45\u001b[39m\n",
      "\u001b[1;31mTypeError\u001b[0m: 'tuple' object does not support item assignment"
     ]
    }
   ],
   "source": [
    "'''\n",
    "Q17. Create the tuples given below\n",
    "tuple_1 = (1,5,6,7,8)\n",
    "tuple_2 = (8,9,4)\n",
    "Identify which of the following code does not work on a tuple.\n",
    "a. sum(tuple_1)\n",
    "b. len(tuple_2)\n",
    "c. tuple_2 + tuple_1\n",
    "            d. tuple_1[3] = 45 item assignment is not supported\n",
    "\n",
    "'''\n",
    "tuple_1 = (1,5,6,7,8)\n",
    "tuple_2 = (8,9,4)\n",
    "tuple_1[3] = 45"
   ]
  },
  {
   "cell_type": "code",
   "execution_count": 35,
   "id": "07bd8a60",
   "metadata": {},
   "outputs": [
    {
     "name": "stdout",
     "output_type": "stream",
     "text": [
      "{1, 2, 3, 4, 5, 6}\n"
     ]
    }
   ],
   "source": [
    "'''\n",
    "Q18. How many elements in the following data structure?\n",
    "# There are 6 elements in the Set\n",
    "'''\n",
    "S = {1,2,3,4,4,4,5,6}\n",
    "print(S)"
   ]
  },
  {
   "cell_type": "code",
   "execution_count": 59,
   "id": "36d8fdc1",
   "metadata": {},
   "outputs": [
    {
     "name": "stdout",
     "output_type": "stream",
     "text": [
      "Enter a value: 100\n",
      "3 4 5\n",
      "8 6 10\n",
      "5 12 13\n",
      "15 8 17\n",
      "12 16 20\n",
      "7 24 25\n",
      "24 10 26\n",
      "21 20 29\n",
      "16 30 34\n",
      "9 40 41\n",
      "35 12 37\n",
      "32 24 40\n",
      "27 36 45\n",
      "20 48 52\n",
      "11 60 61\n",
      "48 14 50\n",
      "45 28 53\n",
      "40 42 58\n",
      "33 56 65\n",
      "24 70 74\n",
      "13 84 85\n",
      "63 16 65\n",
      "60 32 68\n",
      "55 48 73\n",
      "48 64 80\n",
      "39 80 89\n",
      "28 96 100\n",
      "80 18 82\n",
      "77 36 85\n",
      "72 54 90\n",
      "65 72 97\n"
     ]
    }
   ],
   "source": [
    "'''\n",
    "Q19.Write a function which finds all pythagorean triplets of triangles whose sides are no\n",
    "greater than a natural number N\n",
    "'''\n",
    "limits = int(input(\"Enter a value: \"))\n",
    "c = 0\n",
    "m = 2\n",
    "while m < limits :\n",
    "    for n in range (1,m) :\n",
    "        a = m * m - n * n\n",
    "        b = 2 * m * n\n",
    "        c = m * m + n * n\n",
    "        if c > limits :\n",
    "            break\n",
    "        print (a,b,c)\n",
    "        \n",
    "    m = m + 1"
   ]
  }
 ],
 "metadata": {
  "kernelspec": {
   "display_name": "Python 3 (ipykernel)",
   "language": "python",
   "name": "python3"
  },
  "language_info": {
   "codemirror_mode": {
    "name": "ipython",
    "version": 3
   },
   "file_extension": ".py",
   "mimetype": "text/x-python",
   "name": "python",
   "nbconvert_exporter": "python",
   "pygments_lexer": "ipython3",
   "version": "3.9.12"
  }
 },
 "nbformat": 4,
 "nbformat_minor": 5
}
