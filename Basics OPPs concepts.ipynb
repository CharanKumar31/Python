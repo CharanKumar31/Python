{
 "cells": [
  {
   "cell_type": "code",
   "execution_count": null,
   "id": "e6e316ab",
   "metadata": {},
   "outputs": [],
   "source": [
    "#OOPs - it is used to solve real world problems.\n",
    "## we implement class and object in oops concept."
   ]
  },
  {
   "cell_type": "code",
   "execution_count": null,
   "id": "bc41470a",
   "metadata": {},
   "outputs": [],
   "source": [
    "# class \n",
    "# its an template/design it dosnt consumes memory\n",
    "# it defines all the variables and functions"
   ]
  },
  {
   "cell_type": "code",
   "execution_count": null,
   "id": "a393fc2e",
   "metadata": {},
   "outputs": [],
   "source": [
    "#object\n",
    "# its derrived from class consumes memor\n",
    "# from a class we can have more than one object"
   ]
  },
  {
   "cell_type": "code",
   "execution_count": 3,
   "id": "1feb342f",
   "metadata": {},
   "outputs": [
    {
     "name": "stdout",
     "output_type": "stream",
     "text": [
      "500\n"
     ]
    }
   ],
   "source": [
    "class Test:\n",
    "    a = 500  \n",
    "ob = Test()\n",
    "print(ob.a)"
   ]
  },
  {
   "cell_type": "code",
   "execution_count": null,
   "id": "0617edf2",
   "metadata": {},
   "outputs": [],
   "source": [
    "# properties ---- variables\n",
    "# behaviour ------ functions"
   ]
  },
  {
   "cell_type": "code",
   "execution_count": 9,
   "id": "ddb365a2",
   "metadata": {},
   "outputs": [
    {
     "name": "stdout",
     "output_type": "stream",
     "text": [
      "500\n",
      "fun\n",
      "35.5\n"
     ]
    }
   ],
   "source": [
    "class Test1:\n",
    "    a = 500          #body of the class\n",
    "    b = \"fun\"        #\n",
    "    c = 35.5\n",
    "    \n",
    "d = Test1()   #derriving an object\n",
    "e = Test1()\n",
    "f = Test1()\n",
    "\n",
    "print(d.a)\n",
    "print(e.b)\n",
    "print(f.c)\n"
   ]
  },
  {
   "cell_type": "code",
   "execution_count": 16,
   "id": "53586a1d",
   "metadata": {},
   "outputs": [
    {
     "name": "stdout",
     "output_type": "stream",
     "text": [
      "hii\n"
     ]
    }
   ],
   "source": [
    "## methods in class\n",
    "\n",
    "class A:\n",
    "    def a1(self):\n",
    "        print(\"hii\")\n",
    "    \n",
    "aa = A()\n",
    "aa.a1()\n"
   ]
  },
  {
   "cell_type": "code",
   "execution_count": 21,
   "id": "0b9c178f",
   "metadata": {},
   "outputs": [
    {
     "name": "stdout",
     "output_type": "stream",
     "text": [
      "raju bhai\n",
      "baba\n"
     ]
    }
   ],
   "source": [
    "class A:\n",
    "    def aa(self,fname,lname):   ##self is an reference variable, if we not use it the object cannot able to find the functions\n",
    "        print(fname,lname)\n",
    "        \n",
    "    def ab(a): \n",
    "        print('baba') # second method / second function\n",
    "        \n",
    "ob = A()\n",
    "ob.aa('raju','bhai')\n",
    "ob.ab()"
   ]
  },
  {
   "cell_type": "code",
   "execution_count": 2,
   "id": "1dd7c7cc",
   "metadata": {},
   "outputs": [
    {
     "name": "stdout",
     "output_type": "stream",
     "text": [
      "30\n",
      "4\n"
     ]
    }
   ],
   "source": [
    "class Maths:\n",
    "    def Mul(aa,a,b):\n",
    "        print(a*b)\n",
    "        \n",
    "    def exp(aa,a,b):\n",
    "        print(a**b)\n",
    "        \n",
    "AA = Maths()\n",
    "\n",
    "AA.Mul(5,6)\n",
    "AA.exp(2,2)"
   ]
  },
  {
   "cell_type": "code",
   "execution_count": null,
   "id": "b579f74a",
   "metadata": {},
   "outputs": [],
   "source": [
    "#Constructors  #Its an special methods, it has an fixed __init__(self):\n",
    "#It will get called automatically when youn create object."
   ]
  },
  {
   "cell_type": "code",
   "execution_count": 1,
   "id": "88ad544d",
   "metadata": {},
   "outputs": [
    {
     "name": "stdout",
     "output_type": "stream",
     "text": [
      "hai\n"
     ]
    }
   ],
   "source": [
    "class info:\n",
    "    \n",
    "    def __init__(self):\n",
    "        print('hai')\n",
    "        \n",
    "a=info()\n",
    "aa=info()"
   ]
  },
  {
   "cell_type": "code",
   "execution_count": 15,
   "id": "6bacdd25",
   "metadata": {},
   "outputs": [
    {
     "name": "stdout",
     "output_type": "stream",
     "text": [
      "jolly boy\n"
     ]
    }
   ],
   "source": [
    "class AA:\n",
    "    \n",
    "    def __init__(a):\n",
    "        print(\"funny boy\")\n",
    "        \n",
    "    def __init__(a):\n",
    "        print(\"jolly boy\") #If you built an constructor it will take only the recent one.\n",
    "        \n",
    "ab = AA()"
   ]
  },
  {
   "cell_type": "code",
   "execution_count": null,
   "id": "34e7fd81",
   "metadata": {},
   "outputs": [],
   "source": [
    "## Paramaterised constructor"
   ]
  },
  {
   "cell_type": "code",
   "execution_count": 5,
   "id": "2e336b76",
   "metadata": {},
   "outputs": [
    {
     "name": "stdout",
     "output_type": "stream",
     "text": [
      "Naruto Uzumaki\n"
     ]
    }
   ],
   "source": [
    "class A:\n",
    "    \n",
    "    def __init__(a,fname,lname):\n",
    "        print(fname,lname)\n",
    "        \n",
    "ab = A('Naruto','Uzumaki')"
   ]
  },
  {
   "cell_type": "code",
   "execution_count": 11,
   "id": "dcfd1f3d",
   "metadata": {},
   "outputs": [
    {
     "name": "stdout",
     "output_type": "stream",
     "text": [
      "12\n"
     ]
    },
    {
     "ename": "NameError",
     "evalue": "name 'b' is not defined",
     "output_type": "error",
     "traceback": [
      "\u001b[1;31m---------------------------------------------------------------------------\u001b[0m",
      "\u001b[1;31mNameError\u001b[0m                                 Traceback (most recent call last)",
      "Input \u001b[1;32mIn [11]\u001b[0m, in \u001b[0;36m<cell line: 10>\u001b[1;34m()\u001b[0m\n\u001b[0;32m      8\u001b[0m ab \u001b[38;5;241m=\u001b[39m A()\n\u001b[0;32m      9\u001b[0m ab\u001b[38;5;241m.\u001b[39ma(\u001b[38;5;241m12\u001b[39m)\n\u001b[1;32m---> 10\u001b[0m \u001b[43mab\u001b[49m\u001b[38;5;241;43m.\u001b[39;49m\u001b[43maa\u001b[49m\u001b[43m(\u001b[49m\u001b[43m)\u001b[49m\n",
      "Input \u001b[1;32mIn [11]\u001b[0m, in \u001b[0;36mA.aa\u001b[1;34m(a)\u001b[0m\n\u001b[0;32m      5\u001b[0m \u001b[38;5;28;01mdef\u001b[39;00m \u001b[38;5;21maa\u001b[39m(a):\n\u001b[1;32m----> 6\u001b[0m     \u001b[38;5;28mprint\u001b[39m(\u001b[43mb\u001b[49m)\n",
      "\u001b[1;31mNameError\u001b[0m: name 'b' is not defined"
     ]
    }
   ],
   "source": [
    "class A:\n",
    "    def a(a,b):\n",
    "        print(b)\n",
    "        \n",
    "    def aa(a):\n",
    "        print(b)  # we canot use one property in anoter\n",
    "        \n",
    "ab = A()\n",
    "ab.a(12)\n",
    "ab.aa()"
   ]
  },
  {
   "cell_type": "code",
   "execution_count": 37,
   "id": "33535785",
   "metadata": {},
   "outputs": [
    {
     "name": "stdout",
     "output_type": "stream",
     "text": [
      "aa bb\n",
      "aa\n"
     ]
    }
   ],
   "source": [
    "class C:\n",
    "    def __init__(a,fn,ln):## local to global\n",
    "        a.fn = fn\n",
    "        a.ln = ln\n",
    "        \n",
    "    def da(a):\n",
    "        print(a.fn,a.ln)\n",
    "        \n",
    "    def dd(a):\n",
    "        print(a.fn)\n",
    "        \n",
    "A = C ('aa','bb')\n",
    "A.da()\n",
    "A.dd()"
   ]
  }
 ],
 "metadata": {
  "kernelspec": {
   "display_name": "Python 3 (ipykernel)",
   "language": "python",
   "name": "python3"
  },
  "language_info": {
   "codemirror_mode": {
    "name": "ipython",
    "version": 3
   },
   "file_extension": ".py",
   "mimetype": "text/x-python",
   "name": "python",
   "nbconvert_exporter": "python",
   "pygments_lexer": "ipython3",
   "version": "3.9.12"
  }
 },
 "nbformat": 4,
 "nbformat_minor": 5
}
