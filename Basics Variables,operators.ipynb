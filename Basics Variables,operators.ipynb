{
 "cells": [
  {
   "cell_type": "markdown",
   "id": "5becc7ea",
   "metadata": {},
   "source": [
    "# python day1"
   ]
  },
  {
   "cell_type": "code",
   "execution_count": 7,
   "id": "4c383180",
   "metadata": {},
   "outputs": [],
   "source": [
    "a = 5\n",
    "b = 2.6  \n",
    "c = 'Cha'"
   ]
  },
  {
   "cell_type": "code",
   "execution_count": 8,
   "id": "e89985bf",
   "metadata": {},
   "outputs": [
    {
     "name": "stdout",
     "output_type": "stream",
     "text": [
      "1\n",
      "2\n",
      "3\n"
     ]
    }
   ],
   "source": [
    "x,y,z = 1,2,3\n",
    "print(x)\n",
    "print(y)\n",
    "print(z)"
   ]
  },
  {
   "cell_type": "code",
   "execution_count": 2,
   "id": "250db7d2",
   "metadata": {},
   "outputs": [
    {
     "name": "stdout",
     "output_type": "stream",
     "text": [
      "1\n",
      "2\n",
      "3\n"
     ]
    }
   ],
   "source": [
    "a,b,c = 1,2,3\n",
    "print(a)\n",
    "print(b)\n",
    "print(c)\n"
   ]
  },
  {
   "cell_type": "code",
   "execution_count": 1,
   "id": "aba079c3",
   "metadata": {
    "scrolled": true
   },
   "outputs": [
    {
     "data": {
      "text/plain": [
       "4"
      ]
     },
     "execution_count": 1,
     "metadata": {},
     "output_type": "execute_result"
    }
   ],
   "source": [
    "a = 4\n",
    "b = 4\n",
    "a"
   ]
  },
  {
   "cell_type": "markdown",
   "id": "278b422b",
   "metadata": {},
   "source": [
    "x=10\n",
    "x%=7\n",
    "print(x)"
   ]
  },
  {
   "cell_type": "code",
   "execution_count": 37,
   "id": "e0fcd7fd",
   "metadata": {},
   "outputs": [
    {
     "name": "stdout",
     "output_type": "stream",
     "text": [
      "10\n",
      "-6\n",
      "16\n",
      "0.25\n",
      "256\n",
      "0\n",
      "2\n"
     ]
    }
   ],
   "source": [
    "## Arthmetic operators\n",
    "x=2\n",
    "y=8\n",
    "s= x+y\n",
    "print(s)\n",
    "m=x-y\n",
    "print(m)\n",
    "mu=x*y\n",
    "print(mu)\n",
    "div=x/y\n",
    "print(div)\n",
    "p=x**y\n",
    "print(p)\n",
    "fd=x//y\n",
    "print(fd)\n",
    "mod=x%y\n",
    "print(mod)\n",
    "\n"
   ]
  },
  {
   "cell_type": "code",
   "execution_count": 1,
   "id": "ec848e8f",
   "metadata": {
    "scrolled": true
   },
   "outputs": [
    {
     "name": "stdout",
     "output_type": "stream",
     "text": [
      "True\n"
     ]
    }
   ],
   "source": [
    "## comparision operators\n",
    "\n",
    "x=2\n",
    "y=4\n",
    "print(x<y) \n",
    "\n",
    "## comparision operator consists of ==,<,>,<=,>=,!="
   ]
  },
  {
   "cell_type": "code",
   "execution_count": 3,
   "id": "cad99754",
   "metadata": {},
   "outputs": [
    {
     "name": "stdout",
     "output_type": "stream",
     "text": [
      "True\n",
      "True\n",
      "False\n"
     ]
    }
   ],
   "source": [
    "##logical operators (these logical operators are used for mulitiple conditions in single statement)\n",
    "\n",
    "print(2<3 and 3<4 and 4<5)  ## the o/p will be true if only all are true\n",
    "\n",
    "print(2<3 or 8<4 or 4>5)  ## the o/p will be true if any one condition is true\n",
    "\n",
    "print (not 5>4 and not 2<3)  ## The o/p will give opposite o/p of the condition"
   ]
  },
  {
   "cell_type": "code",
   "execution_count": null,
   "id": "92058ccc",
   "metadata": {},
   "outputs": [],
   "source": [
    "## identity operators\n",
    "## is,is not these are used for indentiy purpose to find the object"
   ]
  },
  {
   "cell_type": "code",
   "execution_count": 19,
   "id": "b1e31dd1",
   "metadata": {},
   "outputs": [
    {
     "name": "stdout",
     "output_type": "stream",
     "text": [
      "True\n",
      "False\n",
      "True\n"
     ]
    }
   ],
   "source": [
    "## membership operators\n",
    "a=(1,2,3,4,5,6)\n",
    "print(5 in a) \n",
    "print(7 in a)\n",
    "print(7 not in a)"
   ]
  },
  {
   "cell_type": "code",
   "execution_count": 4,
   "id": "dffc7ecf",
   "metadata": {},
   "outputs": [
    {
     "name": "stdout",
     "output_type": "stream",
     "text": [
      "False\n",
      "False\n",
      "True\n",
      "False\n",
      "True\n",
      "True\n"
     ]
    }
   ],
   "source": [
    "##Identity operators\n",
    "## == checks only value but IS checks the data type and the value (ie.,IS compares the objects)\n",
    "a,b,c,d,e = 5,'2',2,5.0,5\n",
    "print(a is c)\n",
    "print(a is d)\n",
    "print(a == d)\n",
    "print(b is c)\n",
    "print(b is not c)\n",
    "print(a is e)"
   ]
  },
  {
   "cell_type": "markdown",
   "id": "1812e002",
   "metadata": {},
   "source": [
    "##Bitwise operators(&,^,|,~,<<,>>)\n",
    "3 ---- 0000 0011\n",
    "3>>1 ---- 0000 0001\n",
    "3<<1 ---- 0000 0110\n"
   ]
  },
  {
   "cell_type": "code",
   "execution_count": 44,
   "id": "7c45fdcb",
   "metadata": {},
   "outputs": [
    {
     "data": {
      "text/plain": [
       "4"
      ]
     },
     "execution_count": 44,
     "metadata": {},
     "output_type": "execute_result"
    }
   ],
   "source": [
    "~-5"
   ]
  }
 ],
 "metadata": {
  "kernelspec": {
   "display_name": "Python 3 (ipykernel)",
   "language": "python",
   "name": "python3"
  },
  "language_info": {
   "codemirror_mode": {
    "name": "ipython",
    "version": 3
   },
   "file_extension": ".py",
   "mimetype": "text/x-python",
   "name": "python",
   "nbconvert_exporter": "python",
   "pygments_lexer": "ipython3",
   "version": "3.9.12"
  }
 },
 "nbformat": 4,
 "nbformat_minor": 5
}
