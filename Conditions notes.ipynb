{
 "cells": [
  {
   "cell_type": "code",
   "execution_count": 1,
   "id": "2d3a1fc1",
   "metadata": {},
   "outputs": [
    {
     "name": "stdout",
     "output_type": "stream",
     "text": [
      "Enter x 5\n",
      "Enter y 6\n",
      "B is greater\n"
     ]
    }
   ],
   "source": [
    "##IF else\n",
    "a=int(input(\"Enter x \"))\n",
    "b=int(input(\"Enter y \"))\n",
    "if(a>b):\n",
    "    print('A is greater')\n",
    "else:\n",
    "    print('B is greater')"
   ]
  },
  {
   "cell_type": "code",
   "execution_count": 8,
   "id": "a18e9eb2",
   "metadata": {},
   "outputs": [
    {
     "name": "stdout",
     "output_type": "stream",
     "text": [
      "Enter the marks : 65.1\n",
      "second class\n"
     ]
    }
   ],
   "source": [
    "##elif\n",
    "a=float(input('Enter the marks : '))\n",
    "if a>=75.0:\n",
    "    print(\"First class\")\n",
    "elif (a<=75.0 and a>=65.0):\n",
    "    print(\"second class\")\n",
    "elif (a<=65.0 and a>=45.0):\n",
    "    print(\"Third class\")\n",
    "else:\n",
    "    print('RA')\n",
    "    "
   ]
  },
  {
   "cell_type": "code",
   "execution_count": 15,
   "id": "1e89fa97",
   "metadata": {},
   "outputs": [
    {
     "name": "stdout",
     "output_type": "stream",
     "text": [
      "Enter x: -3\n",
      "its not an natural num\n"
     ]
    }
   ],
   "source": [
    "##nested if\n",
    "\n",
    "a=int(input('Enter x: '))\n",
    "if a>=0:                            ##if the condition is false then it comes to the last part\n",
    "    print('its natural num')\n",
    "    if a%2==0:\n",
    "        print('its even')\n",
    "    else:\n",
    "        print('its not an even')\n",
    "else:                              ##if 1st statement is false\n",
    "    print('its not an natural num')"
   ]
  },
  {
   "cell_type": "code",
   "execution_count": 16,
   "id": "3d898c7b",
   "metadata": {},
   "outputs": [
    {
     "name": "stdout",
     "output_type": "stream",
     "text": [
      "Enter x: 5\n",
      "Enter x: 4\n",
      "A is greater\n"
     ]
    }
   ],
   "source": [
    "a=int(input('Enter x: ')) ## Shorthand statements\n",
    "b=int(input('Enter x: '))\n",
    "print(\"A is greater\") if a>b else print (\"B is greater\")"
   ]
  },
  {
   "cell_type": "code",
   "execution_count": null,
   "id": "3cdda217",
   "metadata": {},
   "outputs": [],
   "source": [
    "##LOOPS"
   ]
  },
  {
   "cell_type": "code",
   "execution_count": 3,
   "id": "dbf371c8",
   "metadata": {},
   "outputs": [
    {
     "name": "stdout",
     "output_type": "stream",
     "text": [
      "Asish\n",
      "Asish\n",
      "Asish\n",
      "Asish\n",
      "Asish\n",
      "Asish\n"
     ]
    }
   ],
   "source": [
    "a=5\n",
    "while a<=10:    ## true\n",
    "    print('Asish') ##prints\n",
    "    a+=1           ##it executes untill the condition is false\n",
    "    "
   ]
  },
  {
   "cell_type": "code",
   "execution_count": 2,
   "id": "a6f84395",
   "metadata": {},
   "outputs": [
    {
     "name": "stdout",
     "output_type": "stream",
     "text": [
      "aa aa aa \n",
      "aa aa aa \n",
      "aa aa aa \n"
     ]
    }
   ],
   "source": [
    "##Nested While\n",
    "a=1\n",
    "while a<=3:\n",
    "    b=1\n",
    "    while b<=3:\n",
    "        print(\"aa\",end=\" \")\n",
    "        b=b+1\n",
    "    print()\n",
    "    a=a+1\n"
   ]
  },
  {
   "cell_type": "code",
   "execution_count": null,
   "id": "10997c2a",
   "metadata": {},
   "outputs": [],
   "source": []
  },
  {
   "cell_type": "code",
   "execution_count": null,
   "id": "8d5412f5",
   "metadata": {},
   "outputs": [],
   "source": []
  },
  {
   "cell_type": "code",
   "execution_count": null,
   "id": "38523ae0",
   "metadata": {},
   "outputs": [],
   "source": []
  },
  {
   "cell_type": "code",
   "execution_count": null,
   "id": "c79e78dd",
   "metadata": {},
   "outputs": [],
   "source": []
  },
  {
   "cell_type": "code",
   "execution_count": null,
   "id": "d479924e",
   "metadata": {},
   "outputs": [],
   "source": []
  },
  {
   "cell_type": "code",
   "execution_count": null,
   "id": "6167c639",
   "metadata": {},
   "outputs": [],
   "source": []
  },
  {
   "cell_type": "code",
   "execution_count": null,
   "id": "e242145a",
   "metadata": {},
   "outputs": [],
   "source": []
  },
  {
   "cell_type": "code",
   "execution_count": null,
   "id": "d0870963",
   "metadata": {},
   "outputs": [],
   "source": []
  },
  {
   "cell_type": "code",
   "execution_count": null,
   "id": "6f8d3fba",
   "metadata": {},
   "outputs": [],
   "source": []
  }
 ],
 "metadata": {
  "kernelspec": {
   "display_name": "Python 3 (ipykernel)",
   "language": "python",
   "name": "python3"
  },
  "language_info": {
   "codemirror_mode": {
    "name": "ipython",
    "version": 3
   },
   "file_extension": ".py",
   "mimetype": "text/x-python",
   "name": "python",
   "nbconvert_exporter": "python",
   "pygments_lexer": "ipython3",
   "version": "3.9.12"
  }
 },
 "nbformat": 4,
 "nbformat_minor": 5
}
