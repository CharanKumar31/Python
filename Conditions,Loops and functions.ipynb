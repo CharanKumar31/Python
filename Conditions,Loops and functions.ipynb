{
 "cells": [
  {
   "cell_type": "markdown",
   "id": "9815d30d",
   "metadata": {},
   "source": [
    "## Conditional statements,Decision statements"
   ]
  },
  {
   "cell_type": "markdown",
   "id": "304f82ea",
   "metadata": {},
   "source": [
    "## IF ELSE"
   ]
  },
  {
   "cell_type": "code",
   "execution_count": 1,
   "id": "e2bc6b52",
   "metadata": {},
   "outputs": [
    {
     "name": "stdout",
     "output_type": "stream",
     "text": [
      "b is greater\n"
     ]
    }
   ],
   "source": [
    "a=4\n",
    "b=12\n",
    "\n",
    "if a>b:                             ## condition\n",
    "    print('a is greater')           # these are the block of statements (can be more statements)for above condition\n",
    "else:\n",
    "    print('b is greater')           # statements"
   ]
  },
  {
   "cell_type": "code",
   "execution_count": 2,
   "id": "2586f24a",
   "metadata": {},
   "outputs": [
    {
     "name": "stdout",
     "output_type": "stream",
     "text": [
      "enter a number2\n",
      "number is even\n"
     ]
    }
   ],
   "source": [
    "##odd/even\n",
    "aa=int(input (\"enter a number\"))\n",
    "if aa%2==0:\n",
    "    print('number is even')\n",
    "else:\n",
    "    print('number is odd')"
   ]
  },
  {
   "cell_type": "markdown",
   "id": "e9a5ebe9",
   "metadata": {},
   "source": [
    "## if-elif-else"
   ]
  },
  {
   "cell_type": "code",
   "execution_count": 1,
   "id": "e34191f8",
   "metadata": {},
   "outputs": [
    {
     "name": "stdout",
     "output_type": "stream",
     "text": [
      "Enter the marks of the studenet: 34.9\n",
      "RA\n"
     ]
    }
   ],
   "source": [
    "percentage = float(input(\"Enter the marks of the studenet: \"))\n",
    "if percentage>=75.0:\n",
    "    print('First class')\n",
    "elif (percentage<=75 and percentage >=60.0):\n",
    "    print('second class')\n",
    "elif (percentage<=60 and percentage >=35.0):\n",
    "    print('third class')\n",
    "else :\n",
    "    print('RA')"
   ]
  },
  {
   "cell_type": "markdown",
   "id": "88ae76f9",
   "metadata": {},
   "source": [
    "## Nestedif "
   ]
  },
  {
   "cell_type": "code",
   "execution_count": 2,
   "id": "6898965e",
   "metadata": {},
   "outputs": [
    {
     "name": "stdout",
     "output_type": "stream",
     "text": [
      "enter a number-1\n",
      "number is not natural number\n"
     ]
    }
   ],
   "source": [
    "# to check the values that are natural and even/odd;\n",
    "# with nested if\n",
    "aa=int(input (\"enter a number\"))\n",
    "if aa>=0:\n",
    "    if aa%2==0:\n",
    "        print('number is even')\n",
    "    else:\n",
    "        print('number is odd')\n",
    "else:\n",
    "    print('number is not natural number')"
   ]
  },
  {
   "cell_type": "markdown",
   "id": "66abad08",
   "metadata": {},
   "source": [
    "## shorthand ifelse"
   ]
  },
  {
   "cell_type": "markdown",
   "id": "811036f2",
   "metadata": {},
   "source": [
    "## loop #To repeat a statement for multiple time"
   ]
  },
  {
   "cell_type": "code",
   "execution_count": 7,
   "id": "ad13fb22",
   "metadata": {},
   "outputs": [
    {
     "name": "stdout",
     "output_type": "stream",
     "text": [
      "Charan \n",
      "Charan \n",
      "Charan \n",
      "Charan \n",
      "Charan \n"
     ]
    }
   ],
   "source": [
    "count=0                     #while loop\n",
    "while count<5:\n",
    "    print('Charan ')\n",
    "    count+=1"
   ]
  },
  {
   "cell_type": "code",
   "execution_count": 3,
   "id": "d4466ab8",
   "metadata": {},
   "outputs": [
    {
     "name": "stdout",
     "output_type": "stream",
     "text": [
      "Charan Charan\n"
     ]
    }
   ],
   "source": [
    "print('Charan ',end=\"\") ## to print any char at same line\n",
    "print('Charan')"
   ]
  },
  {
   "cell_type": "code",
   "execution_count": 1,
   "id": "508630c5",
   "metadata": {},
   "outputs": [
    {
     "name": "stdout",
     "output_type": "stream",
     "text": [
      "Charan Charan Charan Charan "
     ]
    }
   ],
   "source": [
    "a=1\n",
    "while a<5:\n",
    "    print('Charan ',end=\"\")\n",
    "    a+=1"
   ]
  },
  {
   "cell_type": "code",
   "execution_count": 9,
   "id": "4889f7a3",
   "metadata": {},
   "outputs": [
    {
     "name": "stdout",
     "output_type": "stream",
     "text": [
      "abc abc abc \n",
      "abc abc abc \n",
      "abc abc abc \n"
     ]
    }
   ],
   "source": [
    "##Nested while\n",
    "c=1 ## the starting condtition should end at last\n",
    "while c<=3:\n",
    "    d=1\n",
    "    while d<=3:\n",
    "        print('abc ',end=\"\")  ## the values at nested should be in the nested condition itself.\n",
    "        d=d+1\n",
    "    print()    ##to move the statement to next line\n",
    "    c=c+1 ##openeing condition"
   ]
  },
  {
   "cell_type": "code",
   "execution_count": 4,
   "id": "89b2c005",
   "metadata": {},
   "outputs": [
    {
     "name": "stdout",
     "output_type": "stream",
     "text": [
      "['v', 'a', 'l', 'u', 'e']\n"
     ]
    }
   ],
   "source": [
    "## For loops It executes automatically (list comprehension)\n",
    "aa='value'\n",
    "bb=[]\n",
    "for cc in aa:\n",
    "    bb.append(cc)\n",
    "print(bb)\n",
    " "
   ]
  },
  {
   "cell_type": "code",
   "execution_count": 8,
   "id": "c28e35ff",
   "metadata": {},
   "outputs": [
    {
     "name": "stdout",
     "output_type": "stream",
     "text": [
      "1\n",
      "2\n",
      "3\n",
      "4\n",
      "5\n"
     ]
    }
   ],
   "source": [
    "a1 = [1,2,3,4,5]\n",
    "for b2 in a1:\n",
    "    print(b2) "
   ]
  },
  {
   "cell_type": "code",
   "execution_count": 17,
   "id": "d462e600",
   "metadata": {},
   "outputs": [
    {
     "name": "stdout",
     "output_type": "stream",
     "text": [
      "0\n",
      "2\n",
      "4\n",
      "6\n",
      "8\n",
      "10\n"
     ]
    }
   ],
   "source": [
    "for a in range(0,11,2):   ## range acts as the total values to assign\n",
    "    print(a)\n",
    "    "
   ]
  },
  {
   "cell_type": "code",
   "execution_count": 21,
   "id": "6752291f",
   "metadata": {},
   "outputs": [
    {
     "name": "stdout",
     "output_type": "stream",
     "text": [
      "[1, 2, 3]\n"
     ]
    }
   ],
   "source": [
    "a= (1,2,3)\n",
    "aa=[]\n",
    "for cc in a:\n",
    "    aa.append(cc)\n",
    "print(aa)"
   ]
  },
  {
   "cell_type": "code",
   "execution_count": 27,
   "id": "6b0c062b",
   "metadata": {},
   "outputs": [
    {
     "name": "stdout",
     "output_type": "stream",
     "text": [
      "[1, 4, 9]\n"
     ]
    }
   ],
   "source": [
    "a= [1,2,3]   ## a list is assigned\n",
    "ab=[]    ##empty list\n",
    "for aa in a:   ## condition\n",
    "    a_1=aa*aa ## statement\n",
    "    ab.append(a_1)  ## updating the existing empty list\n",
    "print(ab)  ## printing the updated list"
   ]
  },
  {
   "cell_type": "markdown",
   "id": "8c7f7568",
   "metadata": {},
   "source": [
    "## nested for loop"
   ]
  },
  {
   "cell_type": "code",
   "execution_count": 31,
   "id": "2df08d10",
   "metadata": {},
   "outputs": [
    {
     "name": "stdout",
     "output_type": "stream",
     "text": [
      "# \n",
      "# # \n",
      "# # # \n"
     ]
    }
   ],
   "source": [
    "for j in range(3):\n",
    "    for a in range(j+1):\n",
    "        print('# ',end=\"\")\n",
    "    print()"
   ]
  },
  {
   "cell_type": "code",
   "execution_count": null,
   "id": "09a1348e",
   "metadata": {},
   "outputs": [],
   "source": [
    "i=[1,2,3]\n"
   ]
  },
  {
   "cell_type": "markdown",
   "id": "8962c131",
   "metadata": {},
   "source": [
    "## function"
   ]
  },
  {
   "cell_type": "code",
   "execution_count": 33,
   "id": "1e21a1e8",
   "metadata": {},
   "outputs": [
    {
     "name": "stdout",
     "output_type": "stream",
     "text": [
      "enter x: 1\n",
      "enter y: 4\n",
      "5\n"
     ]
    }
   ],
   "source": [
    "x=int(input('enter x: '))\n",
    "y=int(input('enter y: '))\n",
    "\n",
    "def addition():\n",
    "    sum=x+y\n",
    "    print(sum)\n",
    "    \n",
    "    \n",
    "    \n",
    "addition()"
   ]
  },
  {
   "cell_type": "code",
   "execution_count": 1,
   "id": "7ed1b066",
   "metadata": {},
   "outputs": [
    {
     "name": "stdout",
     "output_type": "stream",
     "text": [
      "6\n"
     ]
    }
   ],
   "source": [
    "#x=int(input('enter x: '))\n",
    "#y=int(input('enter y: '))\n",
    "\n",
    "def addition(x,y):\n",
    "    sum=x+y\n",
    "    print(sum)\n",
    "      \n",
    "addition(2,4)"
   ]
  },
  {
   "cell_type": "code",
   "execution_count": 36,
   "id": "eb78dd47",
   "metadata": {},
   "outputs": [
    {
     "name": "stdout",
     "output_type": "stream",
     "text": [
      "enter the num: 5\n",
      "25\n"
     ]
    }
   ],
   "source": [
    "a=int(input('enter the num: '))\n",
    "\n",
    "def power():\n",
    "    value=a*a\n",
    "    print(value)\n",
    "    \n",
    "power()"
   ]
  },
  {
   "cell_type": "markdown",
   "id": "1f8362e6",
   "metadata": {},
   "source": [
    "## lambda func"
   ]
  },
  {
   "cell_type": "code",
   "execution_count": 39,
   "id": "19dab72a",
   "metadata": {},
   "outputs": [
    {
     "data": {
      "text/plain": [
       "7"
      ]
     },
     "execution_count": 39,
     "metadata": {},
     "output_type": "execute_result"
    }
   ],
   "source": [
    "a= lambda a,b: a+b\n",
    "a(2,5)"
   ]
  },
  {
   "cell_type": "markdown",
   "id": "109beacf",
   "metadata": {},
   "source": [
    "Functions / user defined func"
   ]
  },
  {
   "cell_type": "code",
   "execution_count": 2,
   "id": "6f56f3e1",
   "metadata": {},
   "outputs": [],
   "source": [
    "def fun1():    #has no parameter\n",
    "    print(\"Hai\")"
   ]
  },
  {
   "cell_type": "code",
   "execution_count": 3,
   "id": "e2b1c8c6",
   "metadata": {},
   "outputs": [
    {
     "name": "stdout",
     "output_type": "stream",
     "text": [
      "Hai\n"
     ]
    }
   ],
   "source": [
    "fun1()"
   ]
  },
  {
   "cell_type": "code",
   "execution_count": 4,
   "id": "8aad6816",
   "metadata": {},
   "outputs": [],
   "source": [
    "def add(a,b):    #has parameters\n",
    "    print(a+b)"
   ]
  },
  {
   "cell_type": "code",
   "execution_count": 5,
   "id": "ab7e9350",
   "metadata": {},
   "outputs": [
    {
     "name": "stdout",
     "output_type": "stream",
     "text": [
      "100\n"
     ]
    }
   ],
   "source": [
    "add(50,50)    #arguments"
   ]
  },
  {
   "cell_type": "code",
   "execution_count": 6,
   "id": "f5906c3c",
   "metadata": {},
   "outputs": [],
   "source": [
    "def Mul(a,b,c):\n",
    "    return a*b*c # It only views the O/P"
   ]
  },
  {
   "cell_type": "code",
   "execution_count": 7,
   "id": "b7cc7542",
   "metadata": {},
   "outputs": [
    {
     "data": {
      "text/plain": [
       "80"
      ]
     },
     "execution_count": 7,
     "metadata": {},
     "output_type": "execute_result"
    }
   ],
   "source": [
    "Mul(2,5,8)"
   ]
  },
  {
   "cell_type": "code",
   "execution_count": 8,
   "id": "54d2288a",
   "metadata": {},
   "outputs": [],
   "source": [
    "def mul(a,b,c):\n",
    "    print(a*b*c) #it shows answer"
   ]
  },
  {
   "cell_type": "code",
   "execution_count": 9,
   "id": "0bdd7ca4",
   "metadata": {},
   "outputs": [
    {
     "name": "stdout",
     "output_type": "stream",
     "text": [
      "80\n"
     ]
    }
   ],
   "source": [
    "mul(2,5,8)"
   ]
  },
  {
   "cell_type": "code",
   "execution_count": 16,
   "id": "2b496997",
   "metadata": {},
   "outputs": [
    {
     "name": "stdout",
     "output_type": "stream",
     "text": [
      "[1, 2, 3, [1]]\n"
     ]
    }
   ],
   "source": [
    "#To remove elements in a nested list\n",
    "lst = [1,2,3,[1,'x']]\n",
    "lst[3].remove('x')\n",
    "print(lst)"
   ]
  }
 ],
 "metadata": {
  "kernelspec": {
   "display_name": "Python 3 (ipykernel)",
   "language": "python",
   "name": "python3"
  },
  "language_info": {
   "codemirror_mode": {
    "name": "ipython",
    "version": 3
   },
   "file_extension": ".py",
   "mimetype": "text/x-python",
   "name": "python",
   "nbconvert_exporter": "python",
   "pygments_lexer": "ipython3",
   "version": "3.9.12"
  }
 },
 "nbformat": 4,
 "nbformat_minor": 5
}
