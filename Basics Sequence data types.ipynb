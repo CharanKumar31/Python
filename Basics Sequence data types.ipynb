{
 "cells": [
  {
   "cell_type": "code",
   "execution_count": 1,
   "id": "dd7240ca",
   "metadata": {},
   "outputs": [
    {
     "data": {
      "text/plain": [
       "int"
      ]
     },
     "execution_count": 1,
     "metadata": {},
     "output_type": "execute_result"
    }
   ],
   "source": [
    "a=5\n",
    "type(a)"
   ]
  },
  {
   "cell_type": "markdown",
   "id": "7978cfcf",
   "metadata": {},
   "source": [
    "## String is a collection of one or more characters can put in a single,double or triple Quoutes\n",
    "str1 =\"apple\"\n",
    "l=(1,2,3,a,b,c) #list\n",
    "t1=(1,2,3) # tuples\n",
    "set=(1,3,4) #Set\n",
    "d=(1:'a',2:'b') #dictionary"
   ]
  },
  {
   "cell_type": "markdown",
   "id": "4df20575",
   "metadata": {},
   "source": [
    "##strings"
   ]
  },
  {
   "cell_type": "code",
   "execution_count": 3,
   "id": "8c216808",
   "metadata": {},
   "outputs": [
    {
     "name": "stdout",
     "output_type": "stream",
     "text": [
      "h\n",
      ",\n"
     ]
    }
   ],
   "source": [
    "str=\"hellow, welcome to python course\"  ## indexing is the position alingned to the charecter\n",
    "print(str[0])\n",
    "print(str[6])"
   ]
  },
  {
   "cell_type": "code",
   "execution_count": 3,
   "id": "23c7d22a",
   "metadata": {},
   "outputs": [
    {
     "data": {
      "text/plain": [
       "5"
      ]
     },
     "execution_count": 3,
     "metadata": {},
     "output_type": "execute_result"
    }
   ],
   "source": [
    "str.count('o') #count is no of occurences of a charecter"
   ]
  },
  {
   "cell_type": "code",
   "execution_count": 5,
   "id": "db4e841d",
   "metadata": {},
   "outputs": [
    {
     "name": "stdout",
     "output_type": "stream",
     "text": [
      "['hellow,', 'welcome', 'to', 'python', 'course']\n",
      "['hellow', ' welcome to python course']\n"
     ]
    }
   ],
   "source": [
    "print(str.split( )) # used for spliting the charecter seperately ie., list of words\n",
    "print (str.split(',')) # also we can use the split as mentioned charecter for splitting into certian split"
   ]
  },
  {
   "cell_type": "code",
   "execution_count": 5,
   "id": "1d47a015",
   "metadata": {},
   "outputs": [
    {
     "data": {
      "text/plain": [
       "16"
      ]
     },
     "execution_count": 5,
     "metadata": {},
     "output_type": "execute_result"
    }
   ],
   "source": [
    "str.find('t') ## to know the index of the char"
   ]
  },
  {
   "cell_type": "code",
   "execution_count": 6,
   "id": "14c5a5a8",
   "metadata": {},
   "outputs": [
    {
     "data": {
      "text/plain": [
       "'hellow, welcome to python class'"
      ]
     },
     "execution_count": 6,
     "metadata": {},
     "output_type": "execute_result"
    }
   ],
   "source": [
    " str.replace('course','class') ## to replace the old char to new (old,new)"
   ]
  },
  {
   "cell_type": "code",
   "execution_count": 7,
   "id": "285c9c13",
   "metadata": {},
   "outputs": [
    {
     "data": {
      "text/plain": [
       "'Charankumar'"
      ]
     },
     "execution_count": 7,
     "metadata": {},
     "output_type": "execute_result"
    }
   ],
   "source": [
    "s1='Charan' #concatenation\n",
    "s2='kumar'\n",
    "s1+s2\n"
   ]
  },
  {
   "cell_type": "code",
   "execution_count": 8,
   "id": "0c485804",
   "metadata": {},
   "outputs": [
    {
     "name": "stdout",
     "output_type": "stream",
     "text": [
      "Charan31kumar\n"
     ]
    }
   ],
   "source": [
    "str_1 = '31'.join([s1,s2]) #join is used for multiple strings to join\n",
    "print(str_1)"
   ]
  },
  {
   "cell_type": "markdown",
   "id": "ed35e165",
   "metadata": {},
   "source": [
    "##LIST"
   ]
  },
  {
   "cell_type": "code",
   "execution_count": 6,
   "id": "900ca785",
   "metadata": {},
   "outputs": [
    {
     "data": {
      "text/plain": [
       "list"
      ]
     },
     "execution_count": 6,
     "metadata": {},
     "output_type": "execute_result"
    }
   ],
   "source": [
    "lst =[1,2,3,'a','b','c',[11,22,33]]\n",
    "type(lst)"
   ]
  },
  {
   "cell_type": "code",
   "execution_count": 8,
   "id": "45c4161a",
   "metadata": {},
   "outputs": [
    {
     "data": {
      "text/plain": [
       "(1, 'b', [11, 22, 33])"
      ]
     },
     "execution_count": 8,
     "metadata": {},
     "output_type": "execute_result"
    }
   ],
   "source": [
    "lst[0],lst[4],lst[-1] ##indexing"
   ]
  },
  {
   "cell_type": "code",
   "execution_count": 12,
   "id": "8e1e5fe1",
   "metadata": {},
   "outputs": [
    {
     "data": {
      "text/plain": [
       "4"
      ]
     },
     "execution_count": 12,
     "metadata": {},
     "output_type": "execute_result"
    }
   ],
   "source": [
    "lst.index('b')  ##index the position"
   ]
  },
  {
   "cell_type": "code",
   "execution_count": 17,
   "id": "a8a55d52",
   "metadata": {},
   "outputs": [
    {
     "data": {
      "text/plain": [
       "3"
      ]
     },
     "execution_count": 17,
     "metadata": {},
     "output_type": "execute_result"
    }
   ],
   "source": [
    "lst.index('a')"
   ]
  },
  {
   "cell_type": "code",
   "execution_count": 9,
   "id": "6173834f",
   "metadata": {},
   "outputs": [
    {
     "name": "stdout",
     "output_type": "stream",
     "text": [
      "[1, 2, 3, 'a', 'b', 'c', [11, 22, 33], 2]\n"
     ]
    }
   ],
   "source": [
    "lst.append(2) ## adds one value to the last\n",
    "print(lst)"
   ]
  },
  {
   "cell_type": "code",
   "execution_count": 10,
   "id": "9fcc1164",
   "metadata": {},
   "outputs": [
    {
     "name": "stdout",
     "output_type": "stream",
     "text": [
      "[1, 2, 3, 'a', 'b', 'c', [11, 22, 33]]\n"
     ]
    }
   ],
   "source": [
    "lst.pop(-1) ##nremoves the position\n",
    "print(lst)"
   ]
  },
  {
   "cell_type": "code",
   "execution_count": 11,
   "id": "4f7581bc",
   "metadata": {},
   "outputs": [
    {
     "data": {
      "text/plain": [
       "'b'"
      ]
     },
     "execution_count": 11,
     "metadata": {},
     "output_type": "execute_result"
    }
   ],
   "source": [
    "lst[4]"
   ]
  },
  {
   "cell_type": "markdown",
   "id": "57f4ab75",
   "metadata": {},
   "source": [
    "lst.remove() ## removes the given value permenantly"
   ]
  },
  {
   "cell_type": "code",
   "execution_count": 33,
   "id": "03386174",
   "metadata": {},
   "outputs": [
    {
     "data": {
      "text/plain": [
       "[1, 2, 'a', 'c', [11, 22, 33]]"
      ]
     },
     "execution_count": 33,
     "metadata": {},
     "output_type": "execute_result"
    }
   ],
   "source": [
    "lst"
   ]
  },
  {
   "cell_type": "code",
   "execution_count": 2,
   "id": "8d612c7e",
   "metadata": {},
   "outputs": [],
   "source": [
    "lst1=[1,4,5,6,77,55]"
   ]
  },
  {
   "cell_type": "code",
   "execution_count": 38,
   "id": "10b3d7b7",
   "metadata": {},
   "outputs": [],
   "source": [
    "lst1.sort() ## does not supprt multiple data type"
   ]
  },
  {
   "cell_type": "code",
   "execution_count": 39,
   "id": "2a039116",
   "metadata": {},
   "outputs": [
    {
     "data": {
      "text/plain": [
       "[1, 4, 5, 6, 55, 77]"
      ]
     },
     "execution_count": 39,
     "metadata": {},
     "output_type": "execute_result"
    }
   ],
   "source": [
    "lst1"
   ]
  },
  {
   "cell_type": "code",
   "execution_count": 4,
   "id": "52095400",
   "metadata": {},
   "outputs": [
    {
     "name": "stdout",
     "output_type": "stream",
     "text": [
      "[1, 4, 5, 6, 77, 55]\n"
     ]
    }
   ],
   "source": [
    "lst1.reverse()\n",
    "print(lst1)"
   ]
  },
  {
   "cell_type": "code",
   "execution_count": 18,
   "id": "c2e0b2f0",
   "metadata": {},
   "outputs": [
    {
     "data": {
      "text/plain": [
       "[1, 4, 5, 6, 77, 55]"
      ]
     },
     "execution_count": 18,
     "metadata": {},
     "output_type": "execute_result"
    }
   ],
   "source": [
    "lst1"
   ]
  },
  {
   "cell_type": "code",
   "execution_count": 7,
   "id": "36e8f74f",
   "metadata": {},
   "outputs": [
    {
     "data": {
      "text/plain": [
       "[1, 2, 3, 'a', 'b', 'c', [11, 22, 33]]"
      ]
     },
     "execution_count": 7,
     "metadata": {},
     "output_type": "execute_result"
    }
   ],
   "source": [
    "lst"
   ]
  },
  {
   "cell_type": "code",
   "execution_count": 8,
   "id": "9282516e",
   "metadata": {},
   "outputs": [
    {
     "name": "stdout",
     "output_type": "stream",
     "text": [
      "[1, 2, 3, 'b', 'a', 'b', 'c', [11, 22, 33]]\n"
     ]
    }
   ],
   "source": [
    "lst.insert(3,'b')\n",
    "print(lst)"
   ]
  },
  {
   "cell_type": "code",
   "execution_count": 19,
   "id": "dcbca78a",
   "metadata": {},
   "outputs": [
    {
     "name": "stdout",
     "output_type": "stream",
     "text": [
      "[1, 2, 3, 'b', 'a', 'b', 'c', [11, 22, 33], 1, 4, 5, 6, 77, 55]\n"
     ]
    }
   ],
   "source": [
    "lst.extend(lst1)\n",
    "print(lst)"
   ]
  },
  {
   "cell_type": "code",
   "execution_count": 48,
   "id": "7d9a6a62",
   "metadata": {},
   "outputs": [],
   "source": [
    "lst_cp=lst.copy()"
   ]
  },
  {
   "cell_type": "code",
   "execution_count": 49,
   "id": "e2402091",
   "metadata": {},
   "outputs": [
    {
     "name": "stdout",
     "output_type": "stream",
     "text": [
      "[1, 2, 'a', 'b', 'c', [11, 22, 33], 77, 55, 6, 5, 4, 1]\n"
     ]
    }
   ],
   "source": [
    "print(lst_cp)"
   ]
  },
  {
   "cell_type": "code",
   "execution_count": 57,
   "id": "d2f32170",
   "metadata": {},
   "outputs": [],
   "source": [
    "lst[1]=20  "
   ]
  },
  {
   "cell_type": "code",
   "execution_count": 58,
   "id": "942f543b",
   "metadata": {},
   "outputs": [
    {
     "data": {
      "text/plain": [
       "[1, 20, 'a', 'b', 'c', [11, 22, 33], 77, 55, 6, 5, 4, 1]"
      ]
     },
     "execution_count": 58,
     "metadata": {},
     "output_type": "execute_result"
    }
   ],
   "source": [
    "lst"
   ]
  },
  {
   "cell_type": "code",
   "execution_count": null,
   "id": "1a2e7a04",
   "metadata": {},
   "outputs": [],
   "source": [
    "##Tuples Round bracket it is immutable"
   ]
  },
  {
   "cell_type": "code",
   "execution_count": 52,
   "id": "7935a253",
   "metadata": {},
   "outputs": [],
   "source": [
    "a=(1,2,4,65)"
   ]
  },
  {
   "cell_type": "code",
   "execution_count": 55,
   "id": "143e6e73",
   "metadata": {},
   "outputs": [
    {
     "data": {
      "text/plain": [
       "(1, 65)"
      ]
     },
     "execution_count": 55,
     "metadata": {},
     "output_type": "execute_result"
    }
   ],
   "source": [
    "a[0],a[3]"
   ]
  },
  {
   "cell_type": "code",
   "execution_count": 59,
   "id": "d0da9d8c",
   "metadata": {},
   "outputs": [
    {
     "data": {
      "text/plain": [
       "1"
      ]
     },
     "execution_count": 59,
     "metadata": {},
     "output_type": "execute_result"
    }
   ],
   "source": [
    "a.count(2)"
   ]
  },
  {
   "cell_type": "code",
   "execution_count": 60,
   "id": "30e907a3",
   "metadata": {},
   "outputs": [
    {
     "data": {
      "text/plain": [
       "2"
      ]
     },
     "execution_count": 60,
     "metadata": {},
     "output_type": "execute_result"
    }
   ],
   "source": [
    "a.index(4)"
   ]
  },
  {
   "cell_type": "code",
   "execution_count": null,
   "id": "52663451",
   "metadata": {},
   "outputs": [],
   "source": [
    "##Sets {brackets are used} it is unordered"
   ]
  },
  {
   "cell_type": "code",
   "execution_count": 68,
   "id": "9e5ab3fd",
   "metadata": {},
   "outputs": [],
   "source": [
    "a1={1,2,3,4}"
   ]
  },
  {
   "cell_type": "code",
   "execution_count": 62,
   "id": "281cf16b",
   "metadata": {},
   "outputs": [
    {
     "data": {
      "text/plain": [
       "set"
      ]
     },
     "execution_count": 62,
     "metadata": {},
     "output_type": "execute_result"
    }
   ],
   "source": [
    "type(a1)"
   ]
  },
  {
   "cell_type": "code",
   "execution_count": 63,
   "id": "8d5077db",
   "metadata": {},
   "outputs": [],
   "source": [
    "a1.add(35) ##adds the value at last"
   ]
  },
  {
   "cell_type": "code",
   "execution_count": 64,
   "id": "9367645b",
   "metadata": {},
   "outputs": [
    {
     "name": "stdout",
     "output_type": "stream",
     "text": [
      "{1, 2, 3, 4, 35}\n"
     ]
    }
   ],
   "source": [
    "print(a1)"
   ]
  },
  {
   "cell_type": "code",
   "execution_count": 65,
   "id": "f31ec9f7",
   "metadata": {},
   "outputs": [
    {
     "name": "stdout",
     "output_type": "stream",
     "text": [
      "{1, 2, 3, 4}\n"
     ]
    }
   ],
   "source": [
    "a1.remove(35) ## removes the specified value\n",
    "print(a1)"
   ]
  },
  {
   "cell_type": "code",
   "execution_count": 71,
   "id": "4f114515",
   "metadata": {},
   "outputs": [
    {
     "name": "stdout",
     "output_type": "stream",
     "text": [
      "{3, 4}\n"
     ]
    }
   ],
   "source": [
    "a1.pop() ## pop removes any random element\n",
    "print(a1)"
   ]
  },
  {
   "cell_type": "code",
   "execution_count": null,
   "id": "39b26d30",
   "metadata": {},
   "outputs": [],
   "source": [
    "a1.add(1)"
   ]
  },
  {
   "cell_type": "code",
   "execution_count": 76,
   "id": "e3c8a0d2",
   "metadata": {},
   "outputs": [
    {
     "data": {
      "text/plain": [
       "{1, 2, 3, 4}"
      ]
     },
     "execution_count": 76,
     "metadata": {},
     "output_type": "execute_result"
    }
   ],
   "source": [
    "a1"
   ]
  },
  {
   "cell_type": "code",
   "execution_count": 77,
   "id": "fa144163",
   "metadata": {},
   "outputs": [],
   "source": [
    "s1={1,3,6,9}\n",
    "s2={1,3,17,13}"
   ]
  },
  {
   "cell_type": "code",
   "execution_count": 78,
   "id": "bdb7b091",
   "metadata": {},
   "outputs": [
    {
     "data": {
      "text/plain": [
       "{1, 3, 6, 9, 13, 17}"
      ]
     },
     "execution_count": 78,
     "metadata": {},
     "output_type": "execute_result"
    }
   ],
   "source": [
    "s1.union(s2)"
   ]
  },
  {
   "cell_type": "code",
   "execution_count": 80,
   "id": "223dd56d",
   "metadata": {},
   "outputs": [
    {
     "data": {
      "text/plain": [
       "{1, 3}"
      ]
     },
     "execution_count": 80,
     "metadata": {},
     "output_type": "execute_result"
    }
   ],
   "source": [
    "s1.intersection(s2)"
   ]
  },
  {
   "cell_type": "code",
   "execution_count": 83,
   "id": "153a94b0",
   "metadata": {},
   "outputs": [
    {
     "data": {
      "text/plain": [
       "{6, 9}"
      ]
     },
     "execution_count": 83,
     "metadata": {},
     "output_type": "execute_result"
    }
   ],
   "source": [
    "s1.difference(s2)"
   ]
  },
  {
   "cell_type": "code",
   "execution_count": 84,
   "id": "b87e80a3",
   "metadata": {},
   "outputs": [
    {
     "data": {
      "text/plain": [
       "{13, 17}"
      ]
     },
     "execution_count": 84,
     "metadata": {},
     "output_type": "execute_result"
    }
   ],
   "source": [
    "s2.difference(s1)"
   ]
  },
  {
   "cell_type": "code",
   "execution_count": 88,
   "id": "c95ffaca",
   "metadata": {},
   "outputs": [
    {
     "data": {
      "text/plain": [
       "{6, 9, 13, 17}"
      ]
     },
     "execution_count": 88,
     "metadata": {},
     "output_type": "execute_result"
    }
   ],
   "source": [
    "s1.symmetric_difference(s2) ## values that are not in common"
   ]
  },
  {
   "cell_type": "code",
   "execution_count": null,
   "id": "f80cda40",
   "metadata": {},
   "outputs": [],
   "source": [
    "##Merging the sets"
   ]
  },
  {
   "cell_type": "code",
   "execution_count": 91,
   "id": "258901d7",
   "metadata": {},
   "outputs": [
    {
     "name": "stdout",
     "output_type": "stream",
     "text": [
      "{1, 3, 6, 9, 13, 17}\n"
     ]
    }
   ],
   "source": [
    "s1.update(s2)\n",
    "print(s1)"
   ]
  },
  {
   "cell_type": "code",
   "execution_count": 9,
   "id": "e05ce214",
   "metadata": {},
   "outputs": [],
   "source": [
    "s3={1,2,7,9}\n",
    "s4={1,2,8,9}"
   ]
  },
  {
   "cell_type": "code",
   "execution_count": 93,
   "id": "3e468188",
   "metadata": {},
   "outputs": [
    {
     "data": {
      "text/plain": [
       "{1, 2, 7, 8, 9}"
      ]
     },
     "execution_count": 93,
     "metadata": {},
     "output_type": "execute_result"
    }
   ],
   "source": [
    "s3|s4 #pipe operator"
   ]
  },
  {
   "cell_type": "code",
   "execution_count": 6,
   "id": "f76aa272",
   "metadata": {},
   "outputs": [
    {
     "name": "stdout",
     "output_type": "stream",
     "text": [
      "{1, 2, 7, 8, 9}\n"
     ]
    }
   ],
   "source": [
    "from functools import reduce    ##reduce function is used to perform operation on iterables functools is an module\n",
    "import operator\n",
    "print(reduce(operator.or_,[s3,s4]))  ##reduce function is that were an reduce(function,list of iterables)"
   ]
  },
  {
   "cell_type": "code",
   "execution_count": 12,
   "id": "03ed5a2c",
   "metadata": {},
   "outputs": [
    {
     "name": "stdout",
     "output_type": "stream",
     "text": [
      "{1, 2, 7, 8, 9}\n"
     ]
    }
   ],
   "source": [
    "import itertools ##Ittertools\n",
    "s_new = set(itertools.chain(s3,s4)) ##Chain is ie.,add to sets ##we can covert the class by typecasting \n",
    "print(s_new)"
   ]
  },
  {
   "cell_type": "code",
   "execution_count": 18,
   "id": "09cb96ea",
   "metadata": {},
   "outputs": [
    {
     "name": "stdout",
     "output_type": "stream",
     "text": [
      "{1, 2, 7, 8, 9}\n"
     ]
    }
   ],
   "source": [
    "sn = set((*s3, *s4)) ##unpacking operator\n",
    "print(sn)"
   ]
  },
  {
   "cell_type": "markdown",
   "id": "2957a47a",
   "metadata": {},
   "source": [
    "## Dictionary"
   ]
  },
  {
   "cell_type": "code",
   "execution_count": 19,
   "id": "6f345957",
   "metadata": {},
   "outputs": [],
   "source": [
    "d= {'name': 'john','age':30,'hobby':'cricket'}  ## set of keyvalue pair  "
   ]
  },
  {
   "cell_type": "code",
   "execution_count": 21,
   "id": "533b18b6",
   "metadata": {},
   "outputs": [
    {
     "data": {
      "text/plain": [
       "('john', 'john')"
      ]
     },
     "execution_count": 21,
     "metadata": {},
     "output_type": "execute_result"
    }
   ],
   "source": [
    "d['name'] ,d.get('name')"
   ]
  },
  {
   "cell_type": "code",
   "execution_count": 22,
   "id": "0dd73d82",
   "metadata": {},
   "outputs": [
    {
     "data": {
      "text/plain": [
       "dict_keys(['name', 'age', 'hobby'])"
      ]
     },
     "execution_count": 22,
     "metadata": {},
     "output_type": "execute_result"
    }
   ],
   "source": [
    "d.keys()"
   ]
  },
  {
   "cell_type": "code",
   "execution_count": 23,
   "id": "7c556d3a",
   "metadata": {},
   "outputs": [
    {
     "data": {
      "text/plain": [
       "dict_values(['john', 30, 'cricket'])"
      ]
     },
     "execution_count": 23,
     "metadata": {},
     "output_type": "execute_result"
    }
   ],
   "source": [
    "d.values()"
   ]
  },
  {
   "cell_type": "code",
   "execution_count": 24,
   "id": "604231e0",
   "metadata": {},
   "outputs": [
    {
     "data": {
      "text/plain": [
       "dict_items([('name', 'john'), ('age', 30), ('hobby', 'cricket')])"
      ]
     },
     "execution_count": 24,
     "metadata": {},
     "output_type": "execute_result"
    }
   ],
   "source": [
    "d.items()"
   ]
  },
  {
   "cell_type": "code",
   "execution_count": 27,
   "id": "6c639733",
   "metadata": {},
   "outputs": [],
   "source": [
    "d['name']='marry'  ## key cnnot be changed , but we can change the key values"
   ]
  },
  {
   "cell_type": "code",
   "execution_count": 28,
   "id": "1b70fb22",
   "metadata": {},
   "outputs": [
    {
     "data": {
      "text/plain": [
       "'marry'"
      ]
     },
     "execution_count": 28,
     "metadata": {},
     "output_type": "execute_result"
    }
   ],
   "source": [
    "d['name']"
   ]
  },
  {
   "cell_type": "code",
   "execution_count": 31,
   "id": "4b9e22ad",
   "metadata": {},
   "outputs": [
    {
     "data": {
      "text/plain": [
       "'cricket'"
      ]
     },
     "execution_count": 31,
     "metadata": {},
     "output_type": "execute_result"
    }
   ],
   "source": [
    "d.pop('hobby')"
   ]
  },
  {
   "cell_type": "code",
   "execution_count": 33,
   "id": "33a00ec1",
   "metadata": {},
   "outputs": [
    {
     "data": {
      "text/plain": [
       "dict_keys(['name', 'age'])"
      ]
     },
     "execution_count": 33,
     "metadata": {},
     "output_type": "execute_result"
    }
   ],
   "source": [
    "d.keys()"
   ]
  },
  {
   "cell_type": "markdown",
   "id": "99227487",
   "metadata": {},
   "source": [
    "# slicing"
   ]
  },
  {
   "cell_type": "code",
   "execution_count": 4,
   "id": "a078d53d",
   "metadata": {},
   "outputs": [
    {
     "data": {
      "text/plain": [
       "str"
      ]
     },
     "execution_count": 4,
     "metadata": {},
     "output_type": "execute_result"
    }
   ],
   "source": [
    "aa=\"welcome\" ##str=[start:end:step] no need to give step it is considered as 1\n",
    "type(aa)"
   ]
  },
  {
   "cell_type": "code",
   "execution_count": 6,
   "id": "43e3fc58",
   "metadata": {},
   "outputs": [
    {
     "data": {
      "text/plain": [
       "'elc'"
      ]
     },
     "execution_count": 6,
     "metadata": {},
     "output_type": "execute_result"
    }
   ],
   "source": [
    "aa[1:4]"
   ]
  },
  {
   "cell_type": "code",
   "execution_count": 7,
   "id": "5c642d08",
   "metadata": {},
   "outputs": [
    {
     "data": {
      "text/plain": [
       "'wloe'"
      ]
     },
     "execution_count": 7,
     "metadata": {},
     "output_type": "execute_result"
    }
   ],
   "source": [
    "aa[::2] ## for alternate charecters"
   ]
  },
  {
   "cell_type": "code",
   "execution_count": 9,
   "id": "fd2841c4",
   "metadata": {},
   "outputs": [
    {
     "data": {
      "text/plain": [
       "'welcome'"
      ]
     },
     "execution_count": 9,
     "metadata": {},
     "output_type": "execute_result"
    }
   ],
   "source": [
    "aa[::]"
   ]
  },
  {
   "cell_type": "code",
   "execution_count": 13,
   "id": "fdfa7ca2",
   "metadata": {},
   "outputs": [
    {
     "data": {
      "text/plain": [
       "'emoclew'"
      ]
     },
     "execution_count": 13,
     "metadata": {},
     "output_type": "execute_result"
    }
   ],
   "source": [
    " aa[::-1]"
   ]
  },
  {
   "cell_type": "code",
   "execution_count": 15,
   "id": "6fbdb3e2",
   "metadata": {},
   "outputs": [],
   "source": [
    "a_1=[1,22,32,44,53,5,4,76,76,87,432,908]"
   ]
  },
  {
   "cell_type": "code",
   "execution_count": 20,
   "id": "91389c1d",
   "metadata": {},
   "outputs": [
    {
     "data": {
      "text/plain": [
       "[1, 22, 32, 44, 53, 5, 4, 76, 76, 87, 432, 908]"
      ]
     },
     "execution_count": 20,
     "metadata": {},
     "output_type": "execute_result"
    }
   ],
   "source": [
    "a_1[::1]"
   ]
  },
  {
   "cell_type": "code",
   "execution_count": 26,
   "id": "46f37e84",
   "metadata": {},
   "outputs": [
    {
     "data": {
      "text/plain": [
       "[1, 32, 53, 4, 76, 432]"
      ]
     },
     "execution_count": 26,
     "metadata": {},
     "output_type": "execute_result"
    }
   ],
   "source": [
    "a_1[::2]"
   ]
  },
  {
   "cell_type": "code",
   "execution_count": 28,
   "id": "0889784f",
   "metadata": {},
   "outputs": [
    {
     "data": {
      "text/plain": [
       "[32, 44, 53, 5, 4, 76, 76, 87]"
      ]
     },
     "execution_count": 28,
     "metadata": {},
     "output_type": "execute_result"
    }
   ],
   "source": [
    "a_1[2:10]"
   ]
  },
  {
   "cell_type": "code",
   "execution_count": 29,
   "id": "cc4d70ce",
   "metadata": {},
   "outputs": [
    {
     "data": {
      "text/plain": [
       "[908, 432, 87, 76, 76, 4, 5, 53, 44, 32, 22, 1]"
      ]
     },
     "execution_count": 29,
     "metadata": {},
     "output_type": "execute_result"
    }
   ],
   "source": [
    "a_1[::-1]"
   ]
  },
  {
   "cell_type": "code",
   "execution_count": 31,
   "id": "4b313e7d",
   "metadata": {},
   "outputs": [
    {
     "data": {
      "text/plain": [
       "[908, 87, 76, 5, 44, 22]"
      ]
     },
     "execution_count": 31,
     "metadata": {},
     "output_type": "execute_result"
    }
   ],
   "source": [
    "a_1[::-2]"
   ]
  },
  {
   "cell_type": "code",
   "execution_count": 32,
   "id": "ac965f0b",
   "metadata": {},
   "outputs": [
    {
     "data": {
      "text/plain": [
       "[908]"
      ]
     },
     "execution_count": 32,
     "metadata": {},
     "output_type": "execute_result"
    }
   ],
   "source": [
    "a_1[-1::]"
   ]
  },
  {
   "cell_type": "code",
   "execution_count": null,
   "id": "ca1a916f",
   "metadata": {},
   "outputs": [],
   "source": []
  }
 ],
 "metadata": {
  "kernelspec": {
   "display_name": "Python 3 (ipykernel)",
   "language": "python",
   "name": "python3"
  },
  "language_info": {
   "codemirror_mode": {
    "name": "ipython",
    "version": 3
   },
   "file_extension": ".py",
   "mimetype": "text/x-python",
   "name": "python",
   "nbconvert_exporter": "python",
   "pygments_lexer": "ipython3",
   "version": "3.9.12"
  }
 },
 "nbformat": 4,
 "nbformat_minor": 5
}
